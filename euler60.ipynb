{
 "cells": [
  {
   "cell_type": "code",
   "execution_count": 64,
   "metadata": {},
   "outputs": [],
   "source": [
    "import time\n",
    "from math import sqrt, gcd"
   ]
  },
  {
   "cell_type": "code",
   "execution_count": 23,
   "metadata": {},
   "outputs": [
    {
     "name": "stdout",
     "output_type": "stream",
     "text": [
      "233168\n",
      "233168\n",
      "sum_multiples1 took 0.009861s.\n",
      "sum_multiples2 took 7.1e-05s.\n"
     ]
    }
   ],
   "source": [
    "# problem 1 - sum multiples of 3 and 5 below 1000\n",
    "# slow version\n",
    "def sum_multiples(n, a, b):\n",
    "    sum = 0\n",
    "    for i in range(n):\n",
    "        if i%a == 0 or i%b==0:\n",
    "            sum += i\n",
    "    return sum\n",
    "print(sum_multiples(1000, 3, 5))\n",
    "\n",
    "# better version\n",
    "def sum_multiples_2(n, a, b):\n",
    "    multiples_of_a = 0\n",
    "    multiples_of_b = 0\n",
    "    multiples_of_axb = 0\n",
    "    for i in range(n-1, n-a-1, -1):\n",
    "        if i%a == 0 and i%b != 0:\n",
    "            div = i//a\n",
    "            multiples_of_a = (a * div * (div+1)) // 2\n",
    "    for i in range(n-1, n-b-1, -1):\n",
    "        if i%b == 0 and i%a != 0:\n",
    "            div = i//b\n",
    "            multiples_of_b = (b * div * (div+1)) // 2\n",
    "    for i in range(n-1, n-(a*b)-1, -1):\n",
    "        if i%a == 0 and i%b == 0:\n",
    "            div = i//(a*b)\n",
    "            multiples_of_axb = ((a*b) * div * (div+1)) // 2\n",
    "    return multiples_of_a + multiples_of_b - multiples_of_axb\n",
    "print(sum_multiples_2(1000, 3, 5))\n",
    "\n",
    "# time comparison\n",
    "start1 = time.time()\n",
    "sum_multiples(100000, 3, 5)\n",
    "print(f'sum_multiples1 took {round(time.time() - start1, 7)}s.')\n",
    "\n",
    "start2 = time.time()\n",
    "sum_multiples_2(100000, 3, 5)\n",
    "print(f'sum_multiples2 took {round(time.time() - start2, 7)}s.')"
   ]
  },
  {
   "cell_type": "code",
   "execution_count": 25,
   "metadata": {},
   "outputs": [
    {
     "name": "stdout",
     "output_type": "stream",
     "text": [
      "4613732\n"
     ]
    }
   ],
   "source": [
    "# problem 2 - find the sum of even Fibonacci numbers below 4 million\n",
    "def sum_even_fibonacci(N):\n",
    "    num1 = 1\n",
    "    num2 = 1\n",
    "    temp = 0\n",
    "    even_sum = 0\n",
    "    while num1 + num2 < N:\n",
    "        temp = num1 + num2 \n",
    "        num1 = num2\n",
    "        num2 = temp\n",
    "        if temp % 2 == 0:\n",
    "            even_sum += temp\n",
    "    return even_sum\n",
    "print(sum_even_fibonacci(4000000))"
   ]
  },
  {
   "cell_type": "code",
   "execution_count": 30,
   "metadata": {},
   "outputs": [
    {
     "name": "stdout",
     "output_type": "stream",
     "text": [
      "6857\n",
      "find largest prime for 600851475143 took 5e-05s.\n"
     ]
    }
   ],
   "source": [
    "# problem 3 - find the largest prime factor of the number 600851475143\n",
    "def find_largest_prime_factor(N):\n",
    "    res = N\n",
    "    i = 2\n",
    "    while i <= res//2:\n",
    "        if res % i == 0:\n",
    "            res = res // i\n",
    "        else:\n",
    "            if i%2 == 1:\n",
    "                i += 2\n",
    "            else:\n",
    "                i += 1\n",
    "    return res\n",
    "print(find_largest_prime_factor(600851475143))\n",
    "start = time.time()\n",
    "print(f'find largest prime for 600851475143 took {round(time.time() - start, 5)}s.')"
   ]
  },
  {
   "cell_type": "code",
   "execution_count": 41,
   "metadata": {},
   "outputs": [
    {
     "name": "stdout",
     "output_type": "stream",
     "text": [
      "(906609, 993)\n"
     ]
    }
   ],
   "source": [
    "# problem 4 - find the largest palindromic number that is the product of 2 3-digit numbers\n",
    "def largest_palindrome():\n",
    "    number = 997\n",
    "    lower_bound = int(sqrt(100000))\n",
    "    while number > 100:\n",
    "        palindrome = int(str(number) + str(number)[::-1])\n",
    "        n = 999\n",
    "        while n > lower_bound:\n",
    "            if palindrome % n == 0 and palindrome // n < 1000:\n",
    "                return palindrome, n\n",
    "            else:\n",
    "                n -= 1\n",
    "        number -= 1\n",
    "print(largest_palindrome())"
   ]
  },
  {
   "cell_type": "code",
   "execution_count": 67,
   "metadata": {},
   "outputs": [
    {
     "data": {
      "text/plain": [
       "232792560"
      ]
     },
     "execution_count": 67,
     "metadata": {},
     "output_type": "execute_result"
    }
   ],
   "source": [
    "# problem 5 - find the smallest positive number that is evenly divisible by all numbers from 1 to 20\n",
    "# my first solution\n",
    "def find_smallest_multiple(n):\n",
    "    primes_smaller_than_n = {i for i in range(2, n+1)}\n",
    "    for i in range(2, n):\n",
    "        if i in primes_smaller_than_n:\n",
    "            j = 2\n",
    "            while i * j <= n:\n",
    "                if i * j in primes_smaller_than_n:\n",
    "                    primes_smaller_than_n.remove(i*j)\n",
    "                j += 1\n",
    "    res = 1\n",
    "    for prime in primes_smaller_than_n:\n",
    "        res *= prime\n",
    "    for i in range(2, n):\n",
    "        if res % i != 0:\n",
    "            for p in primes_smaller_than_n:\n",
    "                if res * p % i == 0:\n",
    "                    res *= p\n",
    "                    break\n",
    "    return res\n",
    "\n",
    "# a better solution\n",
    "def find_smallest_multiple_2(n):\n",
    "    res = 1\n",
    "    for i in range(1, n+1):\n",
    "        res *= i // gcd(i, res)\n",
    "    return res\n",
    "find_smallest_multiple_2(20)"
   ]
  },
  {
   "cell_type": "code",
   "execution_count": 70,
   "metadata": {},
   "outputs": [
    {
     "data": {
      "text/plain": [
       "25164150"
      ]
     },
     "execution_count": 70,
     "metadata": {},
     "output_type": "execute_result"
    }
   ],
   "source": [
    "# problem 6 - find the difference between the sum of squares and square of sum of the first 100 numbers\n",
    "def sum_square_difference(n):\n",
    "    return abs((n * (n+1) * (2*n + 1)) // 6 - ((n**2) * ((n+1)**2)) // 4)\n",
    "sum_square_difference(100)"
   ]
  },
  {
   "cell_type": "code",
   "execution_count": 75,
   "metadata": {},
   "outputs": [
    {
     "data": {
      "text/plain": [
       "104743"
      ]
     },
     "execution_count": 75,
     "metadata": {},
     "output_type": "execute_result"
    }
   ],
   "source": [
    "# problem 7 - find the 10001st prime number\n",
    "def nth_prime(n):\n",
    "    primes = [2, 3]\n",
    "    num = 5\n",
    "    while len(primes) < n:\n",
    "        for p in primes:\n",
    "            if num % p == 0:\n",
    "                break\n",
    "        else:\n",
    "            primes.append(num)\n",
    "        num += 2\n",
    "    return primes[-1]\n",
    "nth_prime(10001)"
   ]
  },
  {
   "cell_type": "code",
   "execution_count": 86,
   "metadata": {},
   "outputs": [
    {
     "data": {
      "text/plain": [
       "(23514624000, [5, 5, 7, 6, 6, 8, 9, 6, 6, 4, 8, 9, 5])"
      ]
     },
     "execution_count": 86,
     "metadata": {},
     "output_type": "execute_result"
    }
   ],
   "source": [
    "# problem 8 - find the 13 window digits that give the largest product in:731671765313306249192251196744265747423553491949349698352031277450632623957831801698480186947885184385861560789112949495459501737958331952853208805511125406987471585238630507156932909632952274430435576689664895044524452316173185640309871112172238311362229893423380308135336276614282806444486645238749303589072962904915604407723907138105158593079608667017242712188399879790879227492190169972088809377665727333001053367881220235421809751254540594752243525849077116705560136048395864467063244157221553975369781797784617406495514929086256932197846862248283972241375657056057490261407972968652414535100474821663704844031998900088952434506585412275886668811642717147992444292823086346567481391912316282458617866458359124566529476545682848912883142607690042242190226710556263211111093705442175069416589604080719840385096245544436298123098787992724428490918884580156166097919133875499200524063689912560717606058861164671094050775410022569831552000559357297257163626956188267042825248360082325753042075296345\n",
    "def largest_product(n, N):\n",
    "    window = []\n",
    "    product = 1\n",
    "    max_product = 1\n",
    "    max_index = 0\n",
    "    digits = [int(char) for char in str(N)]\n",
    "    for i, digit in enumerate(digits):\n",
    "        if digit == 0:\n",
    "            window = []\n",
    "            product = 1\n",
    "        else:\n",
    "            if len(window) < n:\n",
    "                window.append(digit)\n",
    "                if len(window) == n:\n",
    "                    for c_digit in window:\n",
    "                        product *= c_digit\n",
    "                    if product > max_product:\n",
    "                        max_product = product\n",
    "                        max_index = i-n+1\n",
    "            else:\n",
    "                product *= digit\n",
    "                product //= window[0]\n",
    "                if product > max_product:\n",
    "                    max_product = product\n",
    "                    max_index = i-n+1\n",
    "                window.pop(0)\n",
    "                window.append(digit)\n",
    "    return max_product, digits[max_index:max_index+n]\n",
    "largest_product(13, 731671765313306249192251196744265747423553491949349698352031277450632623957831801698480186947885184385861560789112949495459501737958331952853208805511125406987471585238630507156932909632952274430435576689664895044524452316173185640309871112172238311362229893423380308135336276614282806444486645238749303589072962904915604407723907138105158593079608667017242712188399879790879227492190169972088809377665727333001053367881220235421809751254540594752243525849077116705560136048395864467063244157221553975369781797784617406495514929086256932197846862248283972241375657056057490261407972968652414535100474821663704844031998900088952434506585412275886668811642717147992444292823086346567481391912316282458617866458359124566529476545682848912883142607690042242190226710556263211111093705442175069416589604080719840385096245544436298123098787992724428490918884580156166097919133875499200524063689912560717606058861164671094050775410022569831552000559357297257163626956188267042825248360082325753042075296345)"
   ]
  },
  {
   "cell_type": "code",
   "execution_count": 88,
   "metadata": {},
   "outputs": [
    {
     "data": {
      "text/plain": [
       "(200, 375, 425, 31875000)"
      ]
     },
     "execution_count": 88,
     "metadata": {},
     "output_type": "execute_result"
    }
   ],
   "source": [
    "# problem 9 - find the product of the pythagorean triplet that sums up to 1000\n",
    "def pythagorean_triplet():\n",
    "    for a in range(1, 1000//3):\n",
    "        for b in range(a+1, (1000-a)//2):\n",
    "            c = sqrt(a**2 + b**2)\n",
    "            if c.is_integer():\n",
    "                c = int(c)\n",
    "                if 1000 % (a + b + c) == 0:\n",
    "                    mult_factor = 1000 // (a+b+c)\n",
    "                    return mult_factor*a, mult_factor*b, mult_factor*c, (mult_factor**3) * a * b * c\n",
    "    return -1\n",
    "pythagorean_triplet()"
   ]
  },
  {
   "cell_type": "code",
   "execution_count": 97,
   "metadata": {},
   "outputs": [
    {
     "data": {
      "text/plain": [
       "142913828922"
      ]
     },
     "execution_count": 97,
     "metadata": {},
     "output_type": "execute_result"
    }
   ],
   "source": [
    "# problem 10 - find the sum of all primes below 2 million\n",
    "# version 1 (slow)\n",
    "def sum_all_primes(n):\n",
    "    primes = [2, 3]\n",
    "    num = 5\n",
    "    sum_primes = sum(primes)\n",
    "    while num < n:\n",
    "        for p in primes[1:]:\n",
    "            if num % p == 0:\n",
    "                break\n",
    "        else:\n",
    "            primes.append(num)\n",
    "            sum_primes += num\n",
    "        num += 2\n",
    "    return sum_primes\n",
    "\n",
    "# version 2 (faster)\n",
    "def sum_all_primes_2(n):\n",
    "    flagged = set()\n",
    "    sum_primes = 0 \n",
    "    for i in range(2, n):\n",
    "        if i not in flagged:\n",
    "            sum_primes += i\n",
    "            j = 2\n",
    "            while i*j < n:\n",
    "                if i*j not in flagged:\n",
    "                    flagged.add(i*j)\n",
    "                j += 1\n",
    "    return sum_primes\n",
    "sum_all_primes_2(2000000)"
   ]
  },
  {
   "cell_type": "code",
   "execution_count": 111,
   "metadata": {},
   "outputs": [
    {
     "data": {
      "text/plain": [
       "(70600674, (12, 6), 4)"
      ]
     },
     "execution_count": 111,
     "metadata": {},
     "output_type": "execute_result"
    }
   ],
   "source": [
    "# problem 11 - find the largest product of 4 numbers in a single direction on the grid:08 02 22 97 38 15 00 40 00 75 04 05 07 78 52 12 50 77 91 08 49 49 99 40 17 81 18 57 60 87 17 40 98 43 69 48 04 56 62 00 81 49 31 73 55 79 14 29 93 71 40 67 53 88 30 03 49 13 36 65 52 70 95 23 04 60 11 42 69 24 68 56 01 32 56 71 37 02 36 91 22 31 16 71 51 67 63 89 41 92 36 54 22 40 40 28 66 33 13 80 24 47 32 60 99 03 45 02 44 75 33 53 78 36 84 20 35 17 12 50 32 98 81 28 64 23 67 10 26 38 40 67 59 54 70 66 18 38 64 70 67 26 20 68 02 62 12 20 95 63 94 39 63 08 40 91 66 49 94 21 24 55 58 05 66 73 99 26 97 17 78 78 96 83 14 88 34 89 63 72 21 36 23 09 75 00 76 44 20 45 35 14 00 61 33 97 34 31 33 95 78 17 53 28 22 75 31 67 15 94 03 80 04 62 16 14 09 53 56 92 16 39 05 42 96 35 31 47 55 58 88 24 00 17 54 24 36 29 85 57 86 56 00 48 35 71 89 07 05 44 44 37 44 60 21 58 51 54 17 58 19 80 81 68 05 94 47 69 28 73 92 13 86 52 17 77 04 89 55 40 04 52 08 83 97 35 99 16 07 97 57 32 16 26 26 79 33 27 98 66 88 36 68 87 57 62 20 72 03 46 33 67 46 55 12 32 63 93 53 69 04 42 16 73 38 25 39 11 24 94 72 18 08 46 29 32 40 62 76 36 20 69 36 41 72 30 23 88 34 62 99 69 82 67 59 85 74 04 36 16 20 73 35 29 78 31 90 01 74 31 49 71 48 86 81 16 23 57 05 54 01 70 54 71 83 51 54 69 16 92 33 48 61 43 52 01 89 19 67 48 \n",
    "def largest_product_grid(n, G):\n",
    "    # 0: N\n",
    "    # 1: NW\n",
    "    # 2: NE\n",
    "    # 3: S\n",
    "    # 4: SW\n",
    "    # 5: SE\n",
    "    # 6: W\n",
    "    # 7: E\n",
    "    grid_length = 20\n",
    "    grid_list = G.split(\" \")\n",
    "    grid = [[int(grid_list[20*i + j]) for j in range(20)] for i in range(20)]\n",
    "    max_product = 0\n",
    "    max_index = (0,0)\n",
    "    max_direction = 0\n",
    "\n",
    "    def update_max(max_product, product, index, direction):\n",
    "        if product > max_product:\n",
    "            max_product = product\n",
    "            max_index = index\n",
    "            max_direction = direction\n",
    "\n",
    "    for i in range(grid_length):\n",
    "        for j in range(grid_length):\n",
    "            # north & northeast & northwest\n",
    "            if i >= n-1:\n",
    "                # north\n",
    "                product = 1\n",
    "                for k in range(n):\n",
    "                    product *= grid[i-k][j]\n",
    "                if product > max_product:\n",
    "                    max_product = product\n",
    "                    max_index = (i, j)\n",
    "                    max_direction = 0\n",
    "                # northwest\n",
    "                if j >= n-1:\n",
    "                    product = 1\n",
    "                    for k in range(n):\n",
    "                        product *= grid[i-k][j-k]\n",
    "                    if product > max_product:\n",
    "                        max_product = product\n",
    "                        max_index = (i, j)\n",
    "                        max_direction = 1\n",
    "                # northeast\n",
    "                if j <= grid_length-n:\n",
    "                    product = 1\n",
    "                    for k in range(n):\n",
    "                        product *= grid[i-k][j+k]\n",
    "                    if product > max_product:\n",
    "                        max_product = product\n",
    "                        max_index = (i, j)\n",
    "                        max_direction = 2\n",
    "            # south & southeast & southwest\n",
    "            if i <= grid_length-n:\n",
    "                # south\n",
    "                product = 1\n",
    "                for k in range(n):\n",
    "                    product *= grid[i+k][j]\n",
    "                if product > max_product:\n",
    "                    max_product = product\n",
    "                    max_index = (i, j)\n",
    "                    max_direction = 3\n",
    "                # southwest\n",
    "                if j >= n-1:\n",
    "                    product = 1\n",
    "                    for k in range(n):\n",
    "                        product *= grid[i+k][j-k]\n",
    "                    if product > max_product:\n",
    "                        max_product = product\n",
    "                        max_index = (i, j)\n",
    "                        max_direction = 4\n",
    "                # southeast\n",
    "                if j <= grid_length-n:\n",
    "                    product = 1\n",
    "                    for k in range(n):\n",
    "                        product *= grid[i+k][j+k]\n",
    "                    if product > max_product:\n",
    "                        max_product = product\n",
    "                        max_index = (i, j)\n",
    "                        max_direction = 5\n",
    "            # west\n",
    "            if j >= n-1:\n",
    "                product = 1\n",
    "                for k in range(n):\n",
    "                    product *= grid[i][j-k]\n",
    "                if product > max_product:\n",
    "                    max_product = product\n",
    "                    max_index = (i, j)\n",
    "                    max_direction = 6\n",
    "            # west\n",
    "            if j <= grid_length-n:\n",
    "                product = 1\n",
    "                for k in range(n):\n",
    "                    product *= grid[i][j+k]\n",
    "                if product > max_product:\n",
    "                    max_product = product\n",
    "                    max_index = (i, j)\n",
    "                    max_direction = 7\n",
    "    return max_product, max_index, max_direction\n",
    "largest_product_grid(4, '08 02 22 97 38 15 00 40 00 75 04 05 07 78 52 12 50 77 91 08 49 49 99 40 17 81 18 57 60 87 17 40 98 43 69 48 04 56 62 00 81 49 31 73 55 79 14 29 93 71 40 67 53 88 30 03 49 13 36 65 52 70 95 23 04 60 11 42 69 24 68 56 01 32 56 71 37 02 36 91 22 31 16 71 51 67 63 89 41 92 36 54 22 40 40 28 66 33 13 80 24 47 32 60 99 03 45 02 44 75 33 53 78 36 84 20 35 17 12 50 32 98 81 28 64 23 67 10 26 38 40 67 59 54 70 66 18 38 64 70 67 26 20 68 02 62 12 20 95 63 94 39 63 08 40 91 66 49 94 21 24 55 58 05 66 73 99 26 97 17 78 78 96 83 14 88 34 89 63 72 21 36 23 09 75 00 76 44 20 45 35 14 00 61 33 97 34 31 33 95 78 17 53 28 22 75 31 67 15 94 03 80 04 62 16 14 09 53 56 92 16 39 05 42 96 35 31 47 55 58 88 24 00 17 54 24 36 29 85 57 86 56 00 48 35 71 89 07 05 44 44 37 44 60 21 58 51 54 17 58 19 80 81 68 05 94 47 69 28 73 92 13 86 52 17 77 04 89 55 40 04 52 08 83 97 35 99 16 07 97 57 32 16 26 26 79 33 27 98 66 88 36 68 87 57 62 20 72 03 46 33 67 46 55 12 32 63 93 53 69 04 42 16 73 38 25 39 11 24 94 72 18 08 46 29 32 40 62 76 36 20 69 36 41 72 30 23 88 34 62 99 69 82 67 59 85 74 04 36 16 20 73 35 29 78 31 90 01 74 31 49 71 48 86 81 16 23 57 05 54 01 70 54 71 83 51 54 69 16 92 33 48 61 43 52 01 89 19 67 48')"
   ]
  },
  {
   "cell_type": "code",
   "execution_count": 150,
   "metadata": {},
   "outputs": [
    {
     "data": {
      "text/plain": [
       "(76576500, 576)"
      ]
     },
     "execution_count": 150,
     "metadata": {},
     "output_type": "execute_result"
    }
   ],
   "source": [
    "# problem 12 - find the first triangular number with over 500 divisors\n",
    "def prod(lst):\n",
    "    p = 1\n",
    "    for el in lst:\n",
    "        p *= el\n",
    "    return p\n",
    "def get_num_divisors(N):\n",
    "    primes = [2]\n",
    "    exponents = [0]\n",
    "    num = 3\n",
    "    while N//num >= 1:\n",
    "        if N % primes[-1] == 0:\n",
    "            N //= primes[-1]\n",
    "            exponents[-1] += 1\n",
    "            continue\n",
    "        if N % num == 0:\n",
    "            N //= num\n",
    "            primes.append(num)\n",
    "            exponents.append(1)\n",
    "        num += 1\n",
    "    return prod([i+1 for i in exponents])\n",
    "def find_highly_divisible_triangular(lim):\n",
    "    exps_cache_1 = 1\n",
    "    exps_cache_2 = 2\n",
    "    i = 2\n",
    "    num_divisors = 1\n",
    "    while num_divisors < lim:\n",
    "        if i % 2 == 0:\n",
    "            exps_cache_2 = get_num_divisors(i+1)\n",
    "        else:\n",
    "            exps_cache_1 = get_num_divisors((i+1)//2)\n",
    "        num_divisors = exps_cache_1 * exps_cache_2\n",
    "        i += 1\n",
    "    return (i * (i-1)) // 2, num_divisors\n",
    "find_highly_divisible_triangular(500)"
   ]
  },
  {
   "cell_type": "code",
   "execution_count": 151,
   "metadata": {},
   "outputs": [],
   "source": [
    "for i in range(1, 1):\n",
    "    print(i)"
   ]
  },
  {
   "cell_type": "code",
   "execution_count": null,
   "metadata": {},
   "outputs": [],
   "source": []
  }
 ],
 "metadata": {
  "kernelspec": {
   "display_name": "Python 3.10.5 64-bit",
   "language": "python",
   "name": "python3"
  },
  "language_info": {
   "codemirror_mode": {
    "name": "ipython",
    "version": 3
   },
   "file_extension": ".py",
   "mimetype": "text/x-python",
   "name": "python",
   "nbconvert_exporter": "python",
   "pygments_lexer": "ipython3",
   "version": "3.10.5"
  },
  "orig_nbformat": 4,
  "vscode": {
   "interpreter": {
    "hash": "7e1998ff7f8aa20ada591c520b972326324e5ea05489af9e422744c7c09f6dad"
   }
  }
 },
 "nbformat": 4,
 "nbformat_minor": 2
}
